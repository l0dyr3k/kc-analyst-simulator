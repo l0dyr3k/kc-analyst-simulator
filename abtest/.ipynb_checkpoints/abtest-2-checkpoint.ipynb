{
 "cells": [
  {
   "cell_type": "code",
   "execution_count": 1,
   "id": "b11fc030-8493-4d05-8cd2-76142b706a7b",
   "metadata": {},
   "outputs": [],
   "source": [
    "import pandahouse as ph\n",
    "import seaborn as sns\n",
    "import numpy as np\n",
    "from scipy import stats\n",
    "import hashlib"
   ]
  },
  {
   "cell_type": "code",
   "execution_count": 2,
   "id": "ad5f09ff-2551-467f-abde-cedc64db5a80",
   "metadata": {},
   "outputs": [],
   "source": [
    "%matplotlib inline\n",
    "rc = {\n",
    "    'figure.figsize': (12, 8)\n",
    "}\n",
    "sns.set(rc=rc, style='whitegrid')"
   ]
  },
  {
   "cell_type": "code",
   "execution_count": 3,
   "id": "1583338a-8e43-4558-a3a3-9826965f504b",
   "metadata": {},
   "outputs": [],
   "source": [
    "connection = {\n",
    "    'host': 'https://clickhouse.lab.karpov.courses',\n",
    "    'password': 'dpo_python_2020',\n",
    "    'user': 'student',\n",
    "    'database': 'simulator_20220720'\n",
    "}"
   ]
  },
  {
   "cell_type": "code",
   "execution_count": 4,
   "id": "1bfda8c2-a144-4133-bd8c-e391c7b60c61",
   "metadata": {},
   "outputs": [],
   "source": [
    "query = \"\"\"\n",
    "SELECT exp_group, \n",
    "    user_id,\n",
    "    sum(action = 'like') as likes,\n",
    "    sum(action = 'view') as views,\n",
    "    likes/views as ctr\n",
    "FROM {db}.feed_actions \n",
    "WHERE toDate(time) between '2022-06-13' and '2022-06-19'\n",
    "    and exp_group in (1,2)\n",
    "GROUP BY exp_group, user_id\n",
    "\"\"\"\n",
    "df = ph.read_clickhouse(query, connection=connection)"
   ]
  },
  {
   "cell_type": "code",
   "execution_count": 5,
   "id": "02e5dc4a-0796-4812-b7a3-43e137cd0700",
   "metadata": {},
   "outputs": [
    {
     "data": {
      "text/html": [
       "<div>\n",
       "<style scoped>\n",
       "    .dataframe tbody tr th:only-of-type {\n",
       "        vertical-align: middle;\n",
       "    }\n",
       "\n",
       "    .dataframe tbody tr th {\n",
       "        vertical-align: top;\n",
       "    }\n",
       "\n",
       "    .dataframe thead th {\n",
       "        text-align: right;\n",
       "    }\n",
       "</style>\n",
       "<table border=\"1\" class=\"dataframe\">\n",
       "  <thead>\n",
       "    <tr style=\"text-align: right;\">\n",
       "      <th></th>\n",
       "      <th>exp_group</th>\n",
       "      <th>user_id</th>\n",
       "      <th>likes</th>\n",
       "      <th>views</th>\n",
       "      <th>ctr</th>\n",
       "    </tr>\n",
       "  </thead>\n",
       "  <tbody>\n",
       "    <tr>\n",
       "      <th>0</th>\n",
       "      <td>1</td>\n",
       "      <td>109963</td>\n",
       "      <td>3</td>\n",
       "      <td>15</td>\n",
       "      <td>0.200000</td>\n",
       "    </tr>\n",
       "    <tr>\n",
       "      <th>1</th>\n",
       "      <td>1</td>\n",
       "      <td>26117</td>\n",
       "      <td>32</td>\n",
       "      <td>141</td>\n",
       "      <td>0.226950</td>\n",
       "    </tr>\n",
       "    <tr>\n",
       "      <th>2</th>\n",
       "      <td>1</td>\n",
       "      <td>138232</td>\n",
       "      <td>18</td>\n",
       "      <td>73</td>\n",
       "      <td>0.246575</td>\n",
       "    </tr>\n",
       "    <tr>\n",
       "      <th>3</th>\n",
       "      <td>1</td>\n",
       "      <td>26295</td>\n",
       "      <td>33</td>\n",
       "      <td>122</td>\n",
       "      <td>0.270492</td>\n",
       "    </tr>\n",
       "    <tr>\n",
       "      <th>4</th>\n",
       "      <td>1</td>\n",
       "      <td>18392</td>\n",
       "      <td>7</td>\n",
       "      <td>32</td>\n",
       "      <td>0.218750</td>\n",
       "    </tr>\n",
       "  </tbody>\n",
       "</table>\n",
       "</div>"
      ],
      "text/plain": [
       "   exp_group  user_id  likes  views       ctr\n",
       "0          1   109963      3     15  0.200000\n",
       "1          1    26117     32    141  0.226950\n",
       "2          1   138232     18     73  0.246575\n",
       "3          1    26295     33    122  0.270492\n",
       "4          1    18392      7     32  0.218750"
      ]
     },
     "execution_count": 5,
     "metadata": {},
     "output_type": "execute_result"
    }
   ],
   "source": [
    "df.head()"
   ]
  },
  {
   "cell_type": "code",
   "execution_count": 6,
   "id": "1a6e82a9-53c3-4147-be6e-fe7dc93e08bd",
   "metadata": {},
   "outputs": [
    {
     "data": {
      "text/plain": [
       "1    10079\n",
       "2     9952\n",
       "Name: exp_group, dtype: int64"
      ]
     },
     "execution_count": 6,
     "metadata": {},
     "output_type": "execute_result"
    }
   ],
   "source": [
    "df.exp_group.value_counts()"
   ]
  },
  {
   "cell_type": "code",
   "execution_count": 7,
   "id": "6d929a20-b978-4faf-819f-d2f5331dc2c4",
   "metadata": {},
   "outputs": [
    {
     "data": {
      "text/plain": [
       "Text(0.5, 0, 'CTR')"
      ]
     },
     "execution_count": 7,
     "metadata": {},
     "output_type": "execute_result"
    },
    {
     "data": {
      "image/png": "[encoded data removed]",
      "text/plain": [
       "<Figure size 864x576 with 1 Axes>"
      ]
     },
     "metadata": {},
     "output_type": "display_data"
    }
   ],
   "source": [
    "chart = sns.histplot(data = df, \n",
    "              x='ctr', \n",
    "              hue='exp_group', \n",
    "              palette = ['r', 'b'],\n",
    "              alpha=0.5,\n",
    "              kde=False,\n",
    "              bins=50)\n",
    "chart.set_xlabel('CTR')"
   ]
  },
  {
   "cell_type": "markdown",
   "id": "33f4ab4e-ab13-4bb7-bce4-c732b8979841",
   "metadata": {},
   "source": [
    "График показывает, что распределения CTR-ов в двух группах отличаются. В контрольной группе оно унимодальное, в тестовой - бимодальное. Уже это говорит нам о том, что сравнение CTR-ов не даст нам каких-то обаснованных однозначных выводов о том, стоит ли использовать новый алгоритм рекомендации постов"
   ]
  },
  {
   "cell_type": "markdown",
   "id": "3e0aa9c0-3d7f-4458-b953-d45343559662",
   "metadata": {},
   "source": [
    "### t-тест и тест Манна-Уитни на обычных данных"
   ]
  },
  {
   "cell_type": "code",
   "execution_count": 8,
   "id": "ac21c8ad-70ca-4c52-a136-e1dbbd9c2f48",
   "metadata": {},
   "outputs": [
    {
     "data": {
      "text/plain": [
       "0.4780623130874935"
      ]
     },
     "execution_count": 8,
     "metadata": {},
     "output_type": "execute_result"
    }
   ],
   "source": [
    "stats.ttest_ind(df[df.exp_group == 1].ctr,\n",
    "                df[df.exp_group == 2].ctr,\n",
    "                equal_var=False).pvalue"
   ]
  },
  {
   "cell_type": "code",
   "execution_count": 9,
   "id": "e81ee517-7261-40cf-adcf-d91511fda2b0",
   "metadata": {},
   "outputs": [
    {
     "data": {
      "text/plain": [
       "6.0376484617779035e-56"
      ]
     },
     "execution_count": 9,
     "metadata": {},
     "output_type": "execute_result"
    }
   ],
   "source": [
    "stats.mannwhitneyu(df[df.exp_group == 1].ctr,\n",
    "                   df[df.exp_group == 2].ctr,\n",
    "                   alternative = 'two-sided').pvalue"
   ]
  },
  {
   "cell_type": "markdown",
   "id": "60fb5a10-003c-4946-b2e2-4984fa940b14",
   "metadata": {},
   "source": [
    "Тест Манна-Уитни показал, что средние отличаются. Как именно - неизвестно. t-тест показал высокий p-value, на основе которого нам придётся принять гипотезу о равенстве средних. Однако мы видели распределение CTR-ов и полагаться на этот результат было бы неправильно"
   ]
  },
  {
   "cell_type": "markdown",
   "id": "9e576350-a205-47a3-a7b6-622b53571378",
   "metadata": {},
   "source": [
    "### Сглаженный CTR"
   ]
  },
  {
   "cell_type": "code",
   "execution_count": 10,
   "id": "6298238d-ad7d-42e2-86ba-bcfe5d06b287",
   "metadata": {},
   "outputs": [],
   "source": [
    "def smothed_ctr(user_likes, user_views, global_ctr, alpha):\n",
    "    smothed_ctr = (user_likes + alpha * global_ctr) / (user_views + alpha)\n",
    "    return smothed_ctr"
   ]
  },
  {
   "cell_type": "code",
   "execution_count": 11,
   "id": "1bc290cf-7635-44a4-8c72-00d2bd54b9dd",
   "metadata": {},
   "outputs": [],
   "source": [
    "global_ctr_1 = df[df.exp_group == 1].likes.sum() / df[df.exp_group == 1].views.sum()\n",
    "global_ctr_2 = df[df.exp_group == 2].likes.sum() / df[df.exp_group == 2].views.sum()"
   ]
  },
  {
   "cell_type": "code",
   "execution_count": 12,
   "id": "ba1d6403-a79a-4562-bd0e-be9e0d6f6109",
   "metadata": {},
   "outputs": [],
   "source": [
    "smothed_ctr_1 = df[df.exp_group == 1].apply(lambda x: smothed_ctr(x.likes, x.views, global_ctr_1, 5), axis=1)\n",
    "smothed_ctr_2 = df[df.exp_group == 2].apply(lambda x: smothed_ctr(x.likes, x.views, global_ctr_2, 5), axis=1)"
   ]
  },
  {
   "cell_type": "code",
   "execution_count": 13,
   "id": "fa4f741b-656e-4195-a1b3-c21e9708f160",
   "metadata": {},
   "outputs": [
    {
     "data": {
      "text/plain": [
       "Text(0.5, 0, 'smothed CTR')"
      ]
     },
     "execution_count": 13,
     "metadata": {},
     "output_type": "execute_result"
    },
    {
     "data": {
      "image/png": "[encoded data removed]",
      "text/plain": [
       "<Figure size 864x576 with 1 Axes>"
      ]
     },
     "metadata": {},
     "output_type": "display_data"
    }
   ],
   "source": [
    "chart_1 = sns.histplot(smothed_ctr_1, color='r', bins=50)\n",
    "chart_2 = sns.histplot(smothed_ctr_2, color='b', bins=50)\n",
    "chart_1.set_xlabel('smothed CTR')"
   ]
  },
  {
   "cell_type": "code",
   "execution_count": 14,
   "id": "a006d4f0-4909-40ba-963d-1feef7aa6030",
   "metadata": {},
   "outputs": [
    {
     "data": {
      "text/plain": [
       "0.0223769815558559"
      ]
     },
     "execution_count": 14,
     "metadata": {},
     "output_type": "execute_result"
    }
   ],
   "source": [
    "stats.ttest_ind(smothed_ctr_1,\n",
    "                smothed_ctr_2,\n",
    "                equal_var=False).pvalue"
   ]
  },
  {
   "cell_type": "code",
   "execution_count": 15,
   "id": "0207b71a-1376-48d7-81d5-147ab5ae60b5",
   "metadata": {},
   "outputs": [
    {
     "data": {
      "text/plain": [
       "1.6163964114270227e-61"
      ]
     },
     "execution_count": 15,
     "metadata": {},
     "output_type": "execute_result"
    }
   ],
   "source": [
    "stats.mannwhitneyu(smothed_ctr_1,\n",
    "                   smothed_ctr_2, \n",
    "                   alternative = 'two-sided').pvalue"
   ]
  },
  {
   "cell_type": "markdown",
   "id": "38aac6bb-e05a-4205-9e52-68671cf3eae3",
   "metadata": {},
   "source": [
    "Тест Манна-Уитни по-прежнему говорит о различии средних. Однако теперь t-тест также это утверждает. Скорее всего, на это повиляло визуально заметное сглаживание CTR контрольной группы и правого \"горба\" тестовой группы"
   ]
  },
  {
   "cell_type": "markdown",
   "id": "2db82567-1305-442d-a107-c6164b09fbf8",
   "metadata": {},
   "source": [
    "### Пуассоновский бутстреп"
   ]
  },
  {
   "cell_type": "code",
   "execution_count": 16,
   "id": "b3df88db-246f-43d7-b44c-81534d6d0441",
   "metadata": {},
   "outputs": [],
   "source": [
    "def bootstrap(likes1, views1, likes2, views2, n_bootstrap=2000):\n",
    "\n",
    "    poisson_bootstraps1 = stats.poisson(1).rvs((n_bootstrap, len(likes1))).astype(np.int64)\n",
    "    poisson_bootstraps2 = stats.poisson(1).rvs((n_bootstrap, len(likes2))).astype(np.int64)\n",
    "    \n",
    "    globalCTR1 = (poisson_bootstraps1*likes1).sum(axis=1)/(poisson_bootstraps1*views1).sum(axis=1)\n",
    "    globalCTR2 = (poisson_bootstraps2*likes2).sum(axis=1)/(poisson_bootstraps2*views2).sum(axis=1)\n",
    "\n",
    "    return globalCTR1, globalCTR2"
   ]
  },
  {
   "cell_type": "code",
   "execution_count": 17,
   "id": "3b43194e-387e-4580-9bee-acb2861e828e",
   "metadata": {},
   "outputs": [],
   "source": [
    "globalCTR1, globalCTR2 = bootstrap(\n",
    "                            df[df.exp_group == 1].likes.to_numpy(),\n",
    "                            df[df.exp_group == 1].views.to_numpy(),\n",
    "                            df[df.exp_group == 2].likes.to_numpy(),\n",
    "                            df[df.exp_group == 2].views.to_numpy(),\n",
    "                            n_bootstrap = 1000)"
   ]
  },
  {
   "cell_type": "code",
   "execution_count": 18,
   "id": "0c44ed24-0584-40d4-a867-f434ba62631b",
   "metadata": {},
   "outputs": [
    {
     "data": {
      "text/plain": [
       "<AxesSubplot:ylabel='Count'>"
      ]
     },
     "execution_count": 18,
     "metadata": {},
     "output_type": "execute_result"
    },
    {
     "data": {
      "image/png": "[encoded data removed]",
      "text/plain": [
       "<Figure size 864x576 with 1 Axes>"
      ]
     },
     "metadata": {},
     "output_type": "display_data"
    }
   ],
   "source": [
    "sns.histplot(globalCTR1)\n",
    "sns.histplot(globalCTR2)"
   ]
  },
  {
   "cell_type": "code",
   "execution_count": 19,
   "id": "5cd22fc5-c659-431f-a3b6-4d088a941014",
   "metadata": {},
   "outputs": [
    {
     "data": {
      "text/plain": [
       "<AxesSubplot:ylabel='Count'>"
      ]
     },
     "execution_count": 19,
     "metadata": {},
     "output_type": "execute_result"
    },
    {
     "data": {
      "image/png": "[encoded data removed]",
      "text/plain": [
       "<Figure size 864x576 with 1 Axes>"
      ]
     },
     "metadata": {},
     "output_type": "display_data"
    }
   ],
   "source": [
    "sns.histplot(globalCTR2 - globalCTR1)"
   ]
  },
  {
   "cell_type": "markdown",
   "id": "7f1eb5d9-4f4d-4818-9f45-30369a9fb731",
   "metadata": {},
   "source": [
    "Пуассоновский бутстреп говорит об однозначном отличии средних CTR-ов тестовой и контрольной групп. Также согласно этому исследованию средний CTR контрольной группы выше CTR тестовой"
   ]
  },
  {
   "cell_type": "markdown",
   "id": "8aac5d14-cd33-4135-a70e-2193646a7db0",
   "metadata": {},
   "source": [
    "### Бакетное преобразование"
   ]
  },
  {
   "cell_type": "code",
   "execution_count": 20,
   "id": "63f58a71-ff80-4732-a43e-7292060cb9c0",
   "metadata": {},
   "outputs": [],
   "source": [
    "query = \"\"\"\n",
    "SELECT exp_group, bucket,\n",
    "    sum(likes)/sum(views) as bucket_ctr\n",
    "FROM (SELECT exp_group, \n",
    "        xxHash64(user_id)%50 as bucket,\n",
    "        user_id,\n",
    "        sum(action = 'like') as likes,\n",
    "        sum(action = 'view') as views,\n",
    "        likes/views as ctr\n",
    "    FROM {db}.feed_actions \n",
    "    WHERE toDate(time) between '2022-06-13' and '2022-06-19'\n",
    "        and exp_group in (1,2)\n",
    "    GROUP BY exp_group, bucket, user_id)\n",
    "GROUP BY exp_group, bucket\n",
    "\"\"\"\n",
    "\n",
    "bucket_df = ph.read_clickhouse(query, connection=connection)"
   ]
  },
  {
   "cell_type": "code",
   "execution_count": 21,
   "id": "ed752a5b-f52b-4276-8077-eef7a3192960",
   "metadata": {},
   "outputs": [
    {
     "data": {
      "text/html": [
       "<div>\n",
       "<style scoped>\n",
       "    .dataframe tbody tr th:only-of-type {\n",
       "        vertical-align: middle;\n",
       "    }\n",
       "\n",
       "    .dataframe tbody tr th {\n",
       "        vertical-align: top;\n",
       "    }\n",
       "\n",
       "    .dataframe thead th {\n",
       "        text-align: right;\n",
       "    }\n",
       "</style>\n",
       "<table border=\"1\" class=\"dataframe\">\n",
       "  <thead>\n",
       "    <tr style=\"text-align: right;\">\n",
       "      <th></th>\n",
       "      <th>exp_group</th>\n",
       "      <th>bucket</th>\n",
       "      <th>bucket_ctr</th>\n",
       "    </tr>\n",
       "  </thead>\n",
       "  <tbody>\n",
       "    <tr>\n",
       "      <th>0</th>\n",
       "      <td>1</td>\n",
       "      <td>0</td>\n",
       "      <td>0.196481</td>\n",
       "    </tr>\n",
       "    <tr>\n",
       "      <th>1</th>\n",
       "      <td>2</td>\n",
       "      <td>0</td>\n",
       "      <td>0.194262</td>\n",
       "    </tr>\n",
       "    <tr>\n",
       "      <th>2</th>\n",
       "      <td>1</td>\n",
       "      <td>1</td>\n",
       "      <td>0.211887</td>\n",
       "    </tr>\n",
       "    <tr>\n",
       "      <th>3</th>\n",
       "      <td>2</td>\n",
       "      <td>1</td>\n",
       "      <td>0.215328</td>\n",
       "    </tr>\n",
       "    <tr>\n",
       "      <th>4</th>\n",
       "      <td>1</td>\n",
       "      <td>2</td>\n",
       "      <td>0.206271</td>\n",
       "    </tr>\n",
       "  </tbody>\n",
       "</table>\n",
       "</div>"
      ],
      "text/plain": [
       "   exp_group  bucket  bucket_ctr\n",
       "0          1       0    0.196481\n",
       "1          2       0    0.194262\n",
       "2          1       1    0.211887\n",
       "3          2       1    0.215328\n",
       "4          1       2    0.206271"
      ]
     },
     "execution_count": 21,
     "metadata": {},
     "output_type": "execute_result"
    }
   ],
   "source": [
    "bucket_df.head()"
   ]
  },
  {
   "cell_type": "code",
   "execution_count": 22,
   "id": "43ea8a3d-f887-459c-9c0f-3a1cd2df4b5b",
   "metadata": {},
   "outputs": [
    {
     "data": {
      "text/plain": [
       "Text(0.5, 0, 'bucket CTR of group 1')"
      ]
     },
     "execution_count": 22,
     "metadata": {},
     "output_type": "execute_result"
    },
    {
     "data": {
      "image/png": "[encoded data removed]",
      "text/plain": [
       "<Figure size 864x576 with 1 Axes>"
      ]
     },
     "metadata": {},
     "output_type": "display_data"
    }
   ],
   "source": [
    "chart = sns.histplot(bucket_df[bucket_df.exp_group == 1].bucket_ctr, bins=20)\n",
    "chart.set_xlabel('bucket CTR of group 1')"
   ]
  },
  {
   "cell_type": "code",
   "execution_count": 23,
   "id": "7c3e2b58-83d4-4cc2-b201-cdbdf66aaf48",
   "metadata": {},
   "outputs": [
    {
     "data": {
      "text/plain": [
       "Text(0.5, 0, 'bucket CTR of group 2')"
      ]
     },
     "execution_count": 23,
     "metadata": {},
     "output_type": "execute_result"
    },
    {
     "data": {
      "image/png": "[encoded data removed]",
      "text/plain": [
       "<Figure size 864x576 with 1 Axes>"
      ]
     },
     "metadata": {},
     "output_type": "display_data"
    }
   ],
   "source": [
    "chart = sns.histplot(bucket_df[bucket_df.exp_group == 2].bucket_ctr, bins=20)\n",
    "chart.set_xlabel('bucket CTR of group 2')"
   ]
  },
  {
   "cell_type": "code",
   "execution_count": 25,
   "id": "ed7601d6-28da-4c4c-99d4-1c99d04ce1b5",
   "metadata": {},
   "outputs": [
    {
     "data": {
      "text/plain": [
       "3.4455951649945907e-07"
      ]
     },
     "execution_count": 25,
     "metadata": {},
     "output_type": "execute_result"
    }
   ],
   "source": [
    "stats.ttest_ind(bucket_df[bucket_df.exp_group == 1].bucket_ctr,\n",
    "                bucket_df[bucket_df.exp_group == 2].bucket_ctr,\n",
    "                equal_var=False).pvalue"
   ]
  },
  {
   "cell_type": "code",
   "execution_count": 26,
   "id": "8d2ec49d-3e15-4403-8991-69aa1d3026b9",
   "metadata": {},
   "outputs": [
    {
     "data": {
      "text/plain": [
       "2.859963936492646e-07"
      ]
     },
     "execution_count": 26,
     "metadata": {},
     "output_type": "execute_result"
    }
   ],
   "source": [
    "stats.mannwhitneyu(bucket_df[bucket_df.exp_group == 1].bucket_ctr,\n",
    "                   bucket_df[bucket_df.exp_group == 2].bucket_ctr, \n",
    "                   alternative = 'two-sided').pvalue"
   ]
  },
  {
   "cell_type": "markdown",
   "id": "33e8839a-04d6-44ac-8ed5-b6f4d8295c44",
   "metadata": {},
   "source": [
    "Оба теста с предварительным бакетным преобразованием выявили различие средних двух групп"
   ]
  },
  {
   "cell_type": "markdown",
   "id": "f0d1110f-2c74-4bdb-96d7-e853f895dc69",
   "metadata": {},
   "source": [
    "### Вывод\n",
    "\n",
    "Все тесты кроме t-теста на непредобработанных данных засекли различия между средними двух групп. А если взглянуть, как расределены средние подвыборок бутстрепа и CTR бакетов, то можно заметить, что в среднем нововведение лишь понизило CTR. Так что не стоит распроатрнять работу нового рекомендационного алгоритма на всех пользователей. Но главное, что новый алгоритм двояко повлиял на пользователей. Часть из них (меньшая) стала чаше лайкать посты, а другая (большая) - наоборот меньше. Эти две группы заметны на графике распределения и их стоит исследовать и понять, какими общими свойствами обладают пользователи отдельных групп. Осознав, что определяет пользователей, которые стали реже лайкать посты, можно будет задуматься о том, возможно ли повысить их CTR, не уронив при этом CTR других пользователей, и если да то как. А затем, возможно, провести ещё один эксперимент"
   ]
  }
 ],
 "metadata": {
  "kernelspec": {
   "display_name": "Python 3 (ipykernel)",
   "language": "python",
   "name": "python3"
  },
  "language_info": {
   "codemirror_mode": {
    "name": "ipython",
    "version": 3
   },
   "file_extension": ".py",
   "mimetype": "text/x-python",
   "name": "python",
   "nbconvert_exporter": "python",
   "pygments_lexer": "ipython3",
   "version": "3.8.10"
  }
 },
 "nbformat": 4,
 "nbformat_minor": 5
}
