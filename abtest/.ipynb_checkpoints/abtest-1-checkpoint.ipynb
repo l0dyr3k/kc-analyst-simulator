{
 "cells": [
  {
   "cell_type": "code",
   "execution_count": 1,
   "id": "44e46eb9-0d77-4f69-a554-7fe21c36fcf3",
   "metadata": {},
   "outputs": [],
   "source": [
    "import pandahouse as ph\n",
    "import seaborn as sns\n",
    "import numpy as np\n",
    "from scipy import stats"
   ]
  },
  {
   "cell_type": "code",
   "execution_count": 2,
   "id": "47693c81-02d0-4ab8-9a82-8235c6ea97ad",
   "metadata": {},
   "outputs": [],
   "source": [
    "%matplotlib inline\n",
    "rc = {\n",
    "    'figure.figsize': (12, 8)\n",
    "}\n",
    "sns.set(rc=rc, style='whitegrid')"
   ]
  },
  {
   "cell_type": "code",
   "execution_count": 3,
   "id": "2774c9f7-27a9-4e14-8105-0aecba91f24a",
   "metadata": {},
   "outputs": [],
   "source": [
    "connection = {\n",
    "    'host': 'https://clickhouse.lab.karpov.courses',\n",
    "    'password': 'dpo_python_2020',\n",
    "    'user': 'student',\n",
    "    'database': 'simulator_20220720'\n",
    "}"
   ]
  },
  {
   "cell_type": "code",
   "execution_count": 4,
   "id": "910f5a08-1a20-4885-8e53-caf98c768e5e",
   "metadata": {},
   "outputs": [],
   "source": [
    "query = \"\"\"\n",
    "SELECT exp_group, \n",
    "    user_id,\n",
    "    sum(action = 'like') as likes,\n",
    "    sum(action = 'view') as views,\n",
    "    likes/views as ctr\n",
    "FROM {db}.feed_actions \n",
    "WHERE toDate(time) between '2022-06-06' and '2022-06-12'\n",
    "    and exp_group in (2,3)\n",
    "GROUP BY exp_group, user_id\n",
    "\"\"\"\n",
    "df = ph.read_clickhouse(query, connection=connection)"
   ]
  },
  {
   "cell_type": "code",
   "execution_count": 5,
   "id": "a9e140f1-9d75-46f3-8a4f-4c834ad31f47",
   "metadata": {},
   "outputs": [
    {
     "data": {
      "text/html": [
       "<div>\n",
       "<style scoped>\n",
       "    .dataframe tbody tr th:only-of-type {\n",
       "        vertical-align: middle;\n",
       "    }\n",
       "\n",
       "    .dataframe tbody tr th {\n",
       "        vertical-align: top;\n",
       "    }\n",
       "\n",
       "    .dataframe thead th {\n",
       "        text-align: right;\n",
       "    }\n",
       "</style>\n",
       "<table border=\"1\" class=\"dataframe\">\n",
       "  <thead>\n",
       "    <tr style=\"text-align: right;\">\n",
       "      <th></th>\n",
       "      <th>exp_group</th>\n",
       "      <th>user_id</th>\n",
       "      <th>likes</th>\n",
       "      <th>views</th>\n",
       "      <th>ctr</th>\n",
       "    </tr>\n",
       "  </thead>\n",
       "  <tbody>\n",
       "    <tr>\n",
       "      <th>0</th>\n",
       "      <td>3</td>\n",
       "      <td>115383</td>\n",
       "      <td>11</td>\n",
       "      <td>36</td>\n",
       "      <td>0.305556</td>\n",
       "    </tr>\n",
       "    <tr>\n",
       "      <th>1</th>\n",
       "      <td>3</td>\n",
       "      <td>123580</td>\n",
       "      <td>15</td>\n",
       "      <td>92</td>\n",
       "      <td>0.163043</td>\n",
       "    </tr>\n",
       "    <tr>\n",
       "      <th>2</th>\n",
       "      <td>2</td>\n",
       "      <td>131473</td>\n",
       "      <td>26</td>\n",
       "      <td>148</td>\n",
       "      <td>0.175676</td>\n",
       "    </tr>\n",
       "    <tr>\n",
       "      <th>3</th>\n",
       "      <td>2</td>\n",
       "      <td>23985</td>\n",
       "      <td>12</td>\n",
       "      <td>66</td>\n",
       "      <td>0.181818</td>\n",
       "    </tr>\n",
       "    <tr>\n",
       "      <th>4</th>\n",
       "      <td>2</td>\n",
       "      <td>24523</td>\n",
       "      <td>17</td>\n",
       "      <td>120</td>\n",
       "      <td>0.141667</td>\n",
       "    </tr>\n",
       "  </tbody>\n",
       "</table>\n",
       "</div>"
      ],
      "text/plain": [
       "   exp_group  user_id  likes  views       ctr\n",
       "0          3   115383     11     36  0.305556\n",
       "1          3   123580     15     92  0.163043\n",
       "2          2   131473     26    148  0.175676\n",
       "3          2    23985     12     66  0.181818\n",
       "4          2    24523     17    120  0.141667"
      ]
     },
     "execution_count": 5,
     "metadata": {},
     "output_type": "execute_result"
    }
   ],
   "source": [
    "df.head()"
   ]
  },
  {
   "cell_type": "code",
   "execution_count": 7,
   "id": "813d491a-0964-4043-baa0-24bb367351e0",
   "metadata": {},
   "outputs": [
    {
     "data": {
      "text/plain": [
       "<AxesSubplot:xlabel='ctr', ylabel='Count'>"
      ]
     },
     "execution_count": 7,
     "metadata": {},
     "output_type": "execute_result"
    },
    {
     "data": {
      "image/png": "[encoded data removed]",
      "text/plain": [
       "<Figure size 864x576 with 1 Axes>"
      ]
     },
     "metadata": {},
     "output_type": "display_data"
    }
   ],
   "source": [
    "# распределение CTR групп 2 и 3\n",
    "\n",
    "sns.histplot(data = df, \n",
    "              x='ctr', \n",
    "              hue='exp_group', \n",
    "              palette = ['r', 'b'],\n",
    "              alpha=0.5,\n",
    "              kde=False)"
   ]
  },
  {
   "cell_type": "code",
   "execution_count": 8,
   "id": "b6c1d1b1-1e7a-405e-8d88-cb862ec73865",
   "metadata": {},
   "outputs": [],
   "source": [
    "# подсчёт p-value для каждой пары подвыборок\n",
    "\n",
    "iterations = 10000\n",
    "p_values = np.array([])\n",
    "for i in range(iterations):\n",
    "    p_value = stats.ttest_ind(df[df.exp_group == 2].ctr.sample(500),\n",
    "                df[df.exp_group == 3].ctr.sample(500),\n",
    "                equal_var=False).pvalue\n",
    "    p_values = np.append(p_values, p_value)"
   ]
  },
  {
   "cell_type": "code",
   "execution_count": 9,
   "id": "c0fcf05f-2d0f-4b06-b6d7-2684d200e50f",
   "metadata": {},
   "outputs": [
    {
     "data": {
      "text/plain": [
       "Text(0, 0.5, 'frequency')"
      ]
     },
     "execution_count": 9,
     "metadata": {},
     "output_type": "execute_result"
    },
    {
     "data": {
      "image/png": "[encoded data removed]",
      "text/plain": [
       "<Figure size 864x576 with 1 Axes>"
      ]
     },
     "metadata": {},
     "output_type": "display_data"
    }
   ],
   "source": [
    "# распределение полученных p-value визуально похоже на равномерное\n",
    "\n",
    "chart = sns.histplot(p_values)\n",
    "chart.set_title('t-test results')\n",
    "chart.set_xlabel('p-value')\n",
    "chart.set_ylabel('frequency')"
   ]
  },
  {
   "cell_type": "code",
   "execution_count": 10,
   "id": "1b6fca84-c14e-4086-8ca9-b24820ec4962",
   "metadata": {},
   "outputs": [
    {
     "name": "stdout",
     "output_type": "stream",
     "text": [
      "Процент случаев, где на основе p-value можно принять альтернативную гипотезу о различии средних: 4.83%\n"
     ]
    }
   ],
   "source": [
    "fp = np.count_nonzero(p_values <= 0.05)\n",
    "print(f'Процент случаев, где на основе p-value можно принять альтернативную гипотезу о различии средних: {fp / len(p_values) * 100}%')"
   ]
  },
  {
   "cell_type": "markdown",
   "id": "2ebca172-861b-4cbd-9936-745192c3fc16",
   "metadata": {},
   "source": [
    "Визуально CTR двух групп имеют +- одинаковое распределение. При проведении 10000 t-test (при a-уровне 0.05) менее чем в 5% случаев тест показал статистически значимое различе CTR-ов. Исходя из этого можно принять гипотезу о том, что средние CTR в двух группах равны. То есть система сплитования работает корректно"
   ]
  }
 ],
 "metadata": {
  "kernelspec": {
   "display_name": "Python 3 (ipykernel)",
   "language": "python",
   "name": "python3"
  },
  "language_info": {
   "codemirror_mode": {
    "name": "ipython",
    "version": 3
   },
   "file_extension": ".py",
   "mimetype": "text/x-python",
   "name": "python",
   "nbconvert_exporter": "python",
   "pygments_lexer": "ipython3",
   "version": "3.8.10"
  }
 },
 "nbformat": 4,
 "nbformat_minor": 5
}
