{
 "cells": [
  {
   "cell_type": "code",
   "execution_count": 1,
   "id": "4170256e-adad-4d21-bca2-0e7763e65e86",
   "metadata": {},
   "outputs": [],
   "source": [
    "import pandahouse as ph\n",
    "from scipy import stats\n",
    "import matplotlib.pyplot as plt\n",
    "import seaborn as sns"
   ]
  },
  {
   "cell_type": "code",
   "execution_count": 2,
   "id": "3177e6c4-cfc4-4ed9-b593-9efce9dc01e9",
   "metadata": {},
   "outputs": [],
   "source": [
    "%matplotlib inline\n",
    "rc = {\n",
    "    'figure.figsize': (12, 8)\n",
    "}\n",
    "sns.set(rc=rc, style='whitegrid')"
   ]
  },
  {
   "cell_type": "code",
   "execution_count": 3,
   "id": "bc78102e-3667-47ac-8e44-40cc41527204",
   "metadata": {},
   "outputs": [],
   "source": [
    "connection = {\n",
    "    'host': 'https://clickhouse.lab.karpov.courses',\n",
    "    'password': 'dpo_python_2020',\n",
    "    'user': 'student',\n",
    "    'database': 'simulator_20220720'\n",
    "}"
   ]
  },
  {
   "cell_type": "code",
   "execution_count": 24,
   "id": "3dcdf83f-b157-4c00-85d5-320e4b272f62",
   "metadata": {},
   "outputs": [],
   "source": [
    "query = \"\"\"\n",
    "    select\n",
    "      user_id,\n",
    "      exp_group,\n",
    "      sum(action = 'view') views,\n",
    "      sum(action = 'like') likes,\n",
    "      likes / views CTR\n",
    "    from\n",
    "      simulator_20220720.feed_actions\n",
    "    where\n",
    "      exp_group in (0, 1, 2, 3)\n",
    "      and toDate(time) between '2022-06-13'\n",
    "      and '2022-06-19'\n",
    "    group by\n",
    "      exp_group,\n",
    "      user_id\n",
    "\"\"\"\n",
    "df = ph.read_clickhouse(query=query, connection=connection)"
   ]
  },
  {
   "cell_type": "code",
   "execution_count": 25,
   "id": "38979a2a-be10-4ec3-9311-be213c2d2ef7",
   "metadata": {},
   "outputs": [
    {
     "data": {
      "text/html": [
       "<div>\n",
       "<style scoped>\n",
       "    .dataframe tbody tr th:only-of-type {\n",
       "        vertical-align: middle;\n",
       "    }\n",
       "\n",
       "    .dataframe tbody tr th {\n",
       "        vertical-align: top;\n",
       "    }\n",
       "\n",
       "    .dataframe thead th {\n",
       "        text-align: right;\n",
       "    }\n",
       "</style>\n",
       "<table border=\"1\" class=\"dataframe\">\n",
       "  <thead>\n",
       "    <tr style=\"text-align: right;\">\n",
       "      <th></th>\n",
       "      <th>user_id</th>\n",
       "      <th>exp_group</th>\n",
       "      <th>views</th>\n",
       "      <th>likes</th>\n",
       "      <th>CTR</th>\n",
       "    </tr>\n",
       "  </thead>\n",
       "  <tbody>\n",
       "    <tr>\n",
       "      <th>0</th>\n",
       "      <td>115383</td>\n",
       "      <td>3</td>\n",
       "      <td>30</td>\n",
       "      <td>9</td>\n",
       "      <td>0.300000</td>\n",
       "    </tr>\n",
       "    <tr>\n",
       "      <th>1</th>\n",
       "      <td>18392</td>\n",
       "      <td>1</td>\n",
       "      <td>32</td>\n",
       "      <td>7</td>\n",
       "      <td>0.218750</td>\n",
       "    </tr>\n",
       "    <tr>\n",
       "      <th>2</th>\n",
       "      <td>123580</td>\n",
       "      <td>3</td>\n",
       "      <td>48</td>\n",
       "      <td>13</td>\n",
       "      <td>0.270833</td>\n",
       "    </tr>\n",
       "    <tr>\n",
       "      <th>3</th>\n",
       "      <td>131473</td>\n",
       "      <td>2</td>\n",
       "      <td>134</td>\n",
       "      <td>14</td>\n",
       "      <td>0.104478</td>\n",
       "    </tr>\n",
       "    <tr>\n",
       "      <th>4</th>\n",
       "      <td>32420</td>\n",
       "      <td>2</td>\n",
       "      <td>128</td>\n",
       "      <td>26</td>\n",
       "      <td>0.203125</td>\n",
       "    </tr>\n",
       "    <tr>\n",
       "      <th>...</th>\n",
       "      <td>...</td>\n",
       "      <td>...</td>\n",
       "      <td>...</td>\n",
       "      <td>...</td>\n",
       "      <td>...</td>\n",
       "    </tr>\n",
       "    <tr>\n",
       "      <th>40074</th>\n",
       "      <td>27030</td>\n",
       "      <td>0</td>\n",
       "      <td>39</td>\n",
       "      <td>8</td>\n",
       "      <td>0.205128</td>\n",
       "    </tr>\n",
       "    <tr>\n",
       "      <th>40075</th>\n",
       "      <td>122758</td>\n",
       "      <td>3</td>\n",
       "      <td>198</td>\n",
       "      <td>30</td>\n",
       "      <td>0.151515</td>\n",
       "    </tr>\n",
       "    <tr>\n",
       "      <th>40076</th>\n",
       "      <td>132567</td>\n",
       "      <td>1</td>\n",
       "      <td>296</td>\n",
       "      <td>45</td>\n",
       "      <td>0.152027</td>\n",
       "    </tr>\n",
       "    <tr>\n",
       "      <th>40077</th>\n",
       "      <td>122190</td>\n",
       "      <td>3</td>\n",
       "      <td>65</td>\n",
       "      <td>19</td>\n",
       "      <td>0.292308</td>\n",
       "    </tr>\n",
       "    <tr>\n",
       "      <th>40078</th>\n",
       "      <td>17310</td>\n",
       "      <td>2</td>\n",
       "      <td>82</td>\n",
       "      <td>9</td>\n",
       "      <td>0.109756</td>\n",
       "    </tr>\n",
       "  </tbody>\n",
       "</table>\n",
       "<p>40079 rows × 5 columns</p>\n",
       "</div>"
      ],
      "text/plain": [
       "       user_id  exp_group  views  likes       CTR\n",
       "0       115383          3     30      9  0.300000\n",
       "1        18392          1     32      7  0.218750\n",
       "2       123580          3     48     13  0.270833\n",
       "3       131473          2    134     14  0.104478\n",
       "4        32420          2    128     26  0.203125\n",
       "...        ...        ...    ...    ...       ...\n",
       "40074    27030          0     39      8  0.205128\n",
       "40075   122758          3    198     30  0.151515\n",
       "40076   132567          1    296     45  0.152027\n",
       "40077   122190          3     65     19  0.292308\n",
       "40078    17310          2     82      9  0.109756\n",
       "\n",
       "[40079 rows x 5 columns]"
      ]
     },
     "execution_count": 25,
     "metadata": {},
     "output_type": "execute_result"
    }
   ],
   "source": [
    "df"
   ]
  },
  {
   "cell_type": "markdown",
   "id": "b910a164-e51b-478b-98ce-66fd65b4cce9",
   "metadata": {},
   "source": [
    "### Исследование 0 и 3 групп"
   ]
  },
  {
   "cell_type": "code",
   "execution_count": 42,
   "id": "4caf1685-5034-4d03-af07-c9b8ccf6de2a",
   "metadata": {},
   "outputs": [],
   "source": [
    "df_03 = df[df.exp_group.isin([0, 3])]"
   ]
  },
  {
   "cell_type": "code",
   "execution_count": 43,
   "id": "00ce8937-50be-43d6-a152-b71b6263e095",
   "metadata": {},
   "outputs": [],
   "source": [
    "CTRcontrol = df_03[df_03.exp_group == 0].likes.sum() / df_03[df_03.exp_group == 0].views.sum()"
   ]
  },
  {
   "cell_type": "code",
   "execution_count": 44,
   "id": "a515c272-9ac4-4e0b-bffd-784ece787ca0",
   "metadata": {},
   "outputs": [
    {
     "data": {
      "text/plain": [
       "0.20823612262916305"
      ]
     },
     "execution_count": 44,
     "metadata": {},
     "output_type": "execute_result"
    }
   ],
   "source": [
    "CTRcontrol"
   ]
  },
  {
   "cell_type": "code",
   "execution_count": 45,
   "id": "8d9f606d-e75a-4c4b-b881-5ab6c45343c9",
   "metadata": {},
   "outputs": [
    {
     "name": "stderr",
     "output_type": "stream",
     "text": [
      "/tmp/ipykernel_211/1572176548.py:1: SettingWithCopyWarning: \n",
      "A value is trying to be set on a copy of a slice from a DataFrame.\n",
      "Try using .loc[row_indexer,col_indexer] = value instead\n",
      "\n",
      "See the caveats in the documentation: https://pandas.pydata.org/pandas-docs/stable/user_guide/indexing.html#returning-a-view-versus-a-copy\n",
      "  df_03['linearized_likes'] = df_03.likes - df_03.views * CTRcontrol\n"
     ]
    }
   ],
   "source": [
    "df_03['linearized_likes'] = df_03.likes - df_03.views * CTRcontrol"
   ]
  },
  {
   "cell_type": "code",
   "execution_count": 46,
   "id": "53c5bc1f-f327-4061-be36-52c8db186baa",
   "metadata": {},
   "outputs": [
    {
     "data": {
      "text/html": [
       "<div>\n",
       "<style scoped>\n",
       "    .dataframe tbody tr th:only-of-type {\n",
       "        vertical-align: middle;\n",
       "    }\n",
       "\n",
       "    .dataframe tbody tr th {\n",
       "        vertical-align: top;\n",
       "    }\n",
       "\n",
       "    .dataframe thead th {\n",
       "        text-align: right;\n",
       "    }\n",
       "</style>\n",
       "<table border=\"1\" class=\"dataframe\">\n",
       "  <thead>\n",
       "    <tr style=\"text-align: right;\">\n",
       "      <th></th>\n",
       "      <th>user_id</th>\n",
       "      <th>exp_group</th>\n",
       "      <th>views</th>\n",
       "      <th>likes</th>\n",
       "      <th>CTR</th>\n",
       "      <th>linearized_likes</th>\n",
       "    </tr>\n",
       "  </thead>\n",
       "  <tbody>\n",
       "    <tr>\n",
       "      <th>0</th>\n",
       "      <td>115383</td>\n",
       "      <td>3</td>\n",
       "      <td>30</td>\n",
       "      <td>9</td>\n",
       "      <td>0.300000</td>\n",
       "      <td>2.752916</td>\n",
       "    </tr>\n",
       "    <tr>\n",
       "      <th>2</th>\n",
       "      <td>123580</td>\n",
       "      <td>3</td>\n",
       "      <td>48</td>\n",
       "      <td>13</td>\n",
       "      <td>0.270833</td>\n",
       "      <td>3.004666</td>\n",
       "    </tr>\n",
       "    <tr>\n",
       "      <th>6</th>\n",
       "      <td>30319</td>\n",
       "      <td>0</td>\n",
       "      <td>110</td>\n",
       "      <td>21</td>\n",
       "      <td>0.190909</td>\n",
       "      <td>-1.905973</td>\n",
       "    </tr>\n",
       "    <tr>\n",
       "      <th>8</th>\n",
       "      <td>118359</td>\n",
       "      <td>3</td>\n",
       "      <td>38</td>\n",
       "      <td>7</td>\n",
       "      <td>0.184211</td>\n",
       "      <td>-0.912973</td>\n",
       "    </tr>\n",
       "    <tr>\n",
       "      <th>10</th>\n",
       "      <td>7626</td>\n",
       "      <td>0</td>\n",
       "      <td>39</td>\n",
       "      <td>14</td>\n",
       "      <td>0.358974</td>\n",
       "      <td>5.878791</td>\n",
       "    </tr>\n",
       "    <tr>\n",
       "      <th>...</th>\n",
       "      <td>...</td>\n",
       "      <td>...</td>\n",
       "      <td>...</td>\n",
       "      <td>...</td>\n",
       "      <td>...</td>\n",
       "      <td>...</td>\n",
       "    </tr>\n",
       "    <tr>\n",
       "      <th>40064</th>\n",
       "      <td>110492</td>\n",
       "      <td>0</td>\n",
       "      <td>17</td>\n",
       "      <td>4</td>\n",
       "      <td>0.235294</td>\n",
       "      <td>0.459986</td>\n",
       "    </tr>\n",
       "    <tr>\n",
       "      <th>40073</th>\n",
       "      <td>136299</td>\n",
       "      <td>0</td>\n",
       "      <td>116</td>\n",
       "      <td>35</td>\n",
       "      <td>0.301724</td>\n",
       "      <td>10.844610</td>\n",
       "    </tr>\n",
       "    <tr>\n",
       "      <th>40074</th>\n",
       "      <td>27030</td>\n",
       "      <td>0</td>\n",
       "      <td>39</td>\n",
       "      <td>8</td>\n",
       "      <td>0.205128</td>\n",
       "      <td>-0.121209</td>\n",
       "    </tr>\n",
       "    <tr>\n",
       "      <th>40075</th>\n",
       "      <td>122758</td>\n",
       "      <td>3</td>\n",
       "      <td>198</td>\n",
       "      <td>30</td>\n",
       "      <td>0.151515</td>\n",
       "      <td>-11.230752</td>\n",
       "    </tr>\n",
       "    <tr>\n",
       "      <th>40077</th>\n",
       "      <td>122190</td>\n",
       "      <td>3</td>\n",
       "      <td>65</td>\n",
       "      <td>19</td>\n",
       "      <td>0.292308</td>\n",
       "      <td>5.464652</td>\n",
       "    </tr>\n",
       "  </tbody>\n",
       "</table>\n",
       "<p>20048 rows × 6 columns</p>\n",
       "</div>"
      ],
      "text/plain": [
       "       user_id  exp_group  views  likes       CTR  linearized_likes\n",
       "0       115383          3     30      9  0.300000          2.752916\n",
       "2       123580          3     48     13  0.270833          3.004666\n",
       "6        30319          0    110     21  0.190909         -1.905973\n",
       "8       118359          3     38      7  0.184211         -0.912973\n",
       "10        7626          0     39     14  0.358974          5.878791\n",
       "...        ...        ...    ...    ...       ...               ...\n",
       "40064   110492          0     17      4  0.235294          0.459986\n",
       "40073   136299          0    116     35  0.301724         10.844610\n",
       "40074    27030          0     39      8  0.205128         -0.121209\n",
       "40075   122758          3    198     30  0.151515        -11.230752\n",
       "40077   122190          3     65     19  0.292308          5.464652\n",
       "\n",
       "[20048 rows x 6 columns]"
      ]
     },
     "execution_count": 46,
     "metadata": {},
     "output_type": "execute_result"
    }
   ],
   "source": [
    "df_03"
   ]
  },
  {
   "cell_type": "code",
   "execution_count": 62,
   "id": "1b6f7ce5-af89-40bc-8a33-42b87ee2531b",
   "metadata": {},
   "outputs": [
    {
     "data": {
      "text/plain": [
       "<AxesSubplot:xlabel='CTR', ylabel='Count'>"
      ]
     },
     "execution_count": 62,
     "metadata": {},
     "output_type": "execute_result"
    },
    {
     "data": {
      "image/png": "[encoded data removed]",
      "text/plain": [
       "<Figure size 864x576 with 1 Axes>"
      ]
     },
     "metadata": {},
     "output_type": "display_data"
    }
   ],
   "source": [
    "sns.histplot(data = df_03, \n",
    "             x='CTR', \n",
    "             hue='exp_group', \n",
    "             palette = ['r', 'b'],\n",
    "             alpha=0.5,\n",
    "             kde=False,\n",
    "             element=\"poly\",\n",
    "             bins=50)"
   ]
  },
  {
   "cell_type": "code",
   "execution_count": 58,
   "id": "12f1e834-96ef-441b-922b-fe4f92cdb616",
   "metadata": {},
   "outputs": [
    {
     "data": {
      "text/plain": [
       "1.055849414662529e-43"
      ]
     },
     "execution_count": 58,
     "metadata": {},
     "output_type": "execute_result"
    }
   ],
   "source": [
    "stats.ttest_ind(df_03[df_03.exp_group == 0].CTR,\n",
    "                df_03[df_03.exp_group == 3].CTR,\n",
    "                equal_var=False).pvalue"
   ]
  },
  {
   "cell_type": "code",
   "execution_count": 48,
   "id": "ce65819c-b9ad-4c01-854d-70c5c1cfb2e4",
   "metadata": {},
   "outputs": [
    {
     "data": {
      "text/plain": [
       "<AxesSubplot:xlabel='linearized_likes', ylabel='Count'>"
      ]
     },
     "execution_count": 48,
     "metadata": {},
     "output_type": "execute_result"
    },
    {
     "data": {
      "image/png": "[encoded data removed]",
      "text/plain": [
       "<Figure size 864x576 with 1 Axes>"
      ]
     },
     "metadata": {},
     "output_type": "display_data"
    }
   ],
   "source": [
    "sns.histplot(data = df_03, \n",
    "             x='linearized_likes', \n",
    "             hue='exp_group', \n",
    "             palette = ['r', 'b'],\n",
    "             alpha=0.5,\n",
    "             kde=False,\n",
    "             element=\"poly\",\n",
    "             bins=50)"
   ]
  },
  {
   "cell_type": "code",
   "execution_count": 49,
   "id": "e079d013-ae5a-415d-89b4-5061833ea191",
   "metadata": {},
   "outputs": [
    {
     "data": {
      "text/plain": [
       "5.4914249479690016e-52"
      ]
     },
     "execution_count": 49,
     "metadata": {},
     "output_type": "execute_result"
    }
   ],
   "source": [
    "stats.ttest_ind(df_03[df_03.exp_group == 0].linearized_likes,\n",
    "                df_03[df_03.exp_group == 3].linearized_likes,\n",
    "                equal_var=False).pvalue"
   ]
  },
  {
   "cell_type": "markdown",
   "id": "b0875464-0ed2-496f-9601-7c9790bd790d",
   "metadata": {},
   "source": [
    "**Вывод:**\n",
    "\n",
    "Тест на обеих метриках показал, что средние отличаются. И хоть на метрике linearized_likes p-value меньше, особой роли это не играет. На графиках так же заметно, что расперделение тестовой группы немного смещается вправо"
   ]
  },
  {
   "cell_type": "markdown",
   "id": "46eaf154-96f3-4d00-85ca-c795d17632c6",
   "metadata": {},
   "source": [
    "### Исследование 1 и 2 групп"
   ]
  },
  {
   "cell_type": "code",
   "execution_count": 50,
   "id": "0152297e-d337-42cf-bc80-db68367fc01d",
   "metadata": {},
   "outputs": [],
   "source": [
    "df_12 = df[df.exp_group.isin([1, 2])]"
   ]
  },
  {
   "cell_type": "code",
   "execution_count": 51,
   "id": "88364356-5a82-4346-876e-ca693a112668",
   "metadata": {},
   "outputs": [],
   "source": [
    "CTRcontrol = df_12[df_12.exp_group == 1].likes.sum() / df_12[df_12.exp_group == 1].views.sum()"
   ]
  },
  {
   "cell_type": "code",
   "execution_count": 52,
   "id": "60b4c1ec-0971-4fe1-9220-360822052f11",
   "metadata": {},
   "outputs": [
    {
     "data": {
      "text/plain": [
       "0.20802680490126244"
      ]
     },
     "execution_count": 52,
     "metadata": {},
     "output_type": "execute_result"
    }
   ],
   "source": [
    "CTRcontrol"
   ]
  },
  {
   "cell_type": "code",
   "execution_count": 53,
   "id": "7f034fa5-7f4e-4dd2-867c-4d355c708bb4",
   "metadata": {},
   "outputs": [
    {
     "name": "stderr",
     "output_type": "stream",
     "text": [
      "/tmp/ipykernel_211/1195599845.py:1: SettingWithCopyWarning: \n",
      "A value is trying to be set on a copy of a slice from a DataFrame.\n",
      "Try using .loc[row_indexer,col_indexer] = value instead\n",
      "\n",
      "See the caveats in the documentation: https://pandas.pydata.org/pandas-docs/stable/user_guide/indexing.html#returning-a-view-versus-a-copy\n",
      "  df_12['linearized_likes'] = df_12.likes - df_12.views * CTRcontrol\n"
     ]
    }
   ],
   "source": [
    "df_12['linearized_likes'] = df_12.likes - df_12.views * CTRcontrol"
   ]
  },
  {
   "cell_type": "code",
   "execution_count": 54,
   "id": "9705ffe0-02cb-4ad3-b101-c3d229b2a5db",
   "metadata": {},
   "outputs": [
    {
     "data": {
      "text/html": [
       "<div>\n",
       "<style scoped>\n",
       "    .dataframe tbody tr th:only-of-type {\n",
       "        vertical-align: middle;\n",
       "    }\n",
       "\n",
       "    .dataframe tbody tr th {\n",
       "        vertical-align: top;\n",
       "    }\n",
       "\n",
       "    .dataframe thead th {\n",
       "        text-align: right;\n",
       "    }\n",
       "</style>\n",
       "<table border=\"1\" class=\"dataframe\">\n",
       "  <thead>\n",
       "    <tr style=\"text-align: right;\">\n",
       "      <th></th>\n",
       "      <th>user_id</th>\n",
       "      <th>exp_group</th>\n",
       "      <th>views</th>\n",
       "      <th>likes</th>\n",
       "      <th>CTR</th>\n",
       "      <th>linearized_likes</th>\n",
       "    </tr>\n",
       "  </thead>\n",
       "  <tbody>\n",
       "    <tr>\n",
       "      <th>1</th>\n",
       "      <td>18392</td>\n",
       "      <td>1</td>\n",
       "      <td>32</td>\n",
       "      <td>7</td>\n",
       "      <td>0.218750</td>\n",
       "      <td>0.343142</td>\n",
       "    </tr>\n",
       "    <tr>\n",
       "      <th>3</th>\n",
       "      <td>131473</td>\n",
       "      <td>2</td>\n",
       "      <td>134</td>\n",
       "      <td>14</td>\n",
       "      <td>0.104478</td>\n",
       "      <td>-13.875592</td>\n",
       "    </tr>\n",
       "    <tr>\n",
       "      <th>4</th>\n",
       "      <td>32420</td>\n",
       "      <td>2</td>\n",
       "      <td>128</td>\n",
       "      <td>26</td>\n",
       "      <td>0.203125</td>\n",
       "      <td>-0.627431</td>\n",
       "    </tr>\n",
       "    <tr>\n",
       "      <th>5</th>\n",
       "      <td>24239</td>\n",
       "      <td>2</td>\n",
       "      <td>90</td>\n",
       "      <td>40</td>\n",
       "      <td>0.444444</td>\n",
       "      <td>21.277588</td>\n",
       "    </tr>\n",
       "    <tr>\n",
       "      <th>7</th>\n",
       "      <td>27443</td>\n",
       "      <td>1</td>\n",
       "      <td>29</td>\n",
       "      <td>2</td>\n",
       "      <td>0.068966</td>\n",
       "      <td>-4.032777</td>\n",
       "    </tr>\n",
       "    <tr>\n",
       "      <th>...</th>\n",
       "      <td>...</td>\n",
       "      <td>...</td>\n",
       "      <td>...</td>\n",
       "      <td>...</td>\n",
       "      <td>...</td>\n",
       "      <td>...</td>\n",
       "    </tr>\n",
       "    <tr>\n",
       "      <th>40070</th>\n",
       "      <td>21697</td>\n",
       "      <td>1</td>\n",
       "      <td>22</td>\n",
       "      <td>2</td>\n",
       "      <td>0.090909</td>\n",
       "      <td>-2.576590</td>\n",
       "    </tr>\n",
       "    <tr>\n",
       "      <th>40071</th>\n",
       "      <td>1232</td>\n",
       "      <td>2</td>\n",
       "      <td>96</td>\n",
       "      <td>5</td>\n",
       "      <td>0.052083</td>\n",
       "      <td>-14.970573</td>\n",
       "    </tr>\n",
       "    <tr>\n",
       "      <th>40072</th>\n",
       "      <td>120653</td>\n",
       "      <td>1</td>\n",
       "      <td>74</td>\n",
       "      <td>15</td>\n",
       "      <td>0.202703</td>\n",
       "      <td>-0.393984</td>\n",
       "    </tr>\n",
       "    <tr>\n",
       "      <th>40076</th>\n",
       "      <td>132567</td>\n",
       "      <td>1</td>\n",
       "      <td>296</td>\n",
       "      <td>45</td>\n",
       "      <td>0.152027</td>\n",
       "      <td>-16.575934</td>\n",
       "    </tr>\n",
       "    <tr>\n",
       "      <th>40078</th>\n",
       "      <td>17310</td>\n",
       "      <td>2</td>\n",
       "      <td>82</td>\n",
       "      <td>9</td>\n",
       "      <td>0.109756</td>\n",
       "      <td>-8.058198</td>\n",
       "    </tr>\n",
       "  </tbody>\n",
       "</table>\n",
       "<p>20031 rows × 6 columns</p>\n",
       "</div>"
      ],
      "text/plain": [
       "       user_id  exp_group  views  likes       CTR  linearized_likes\n",
       "1        18392          1     32      7  0.218750          0.343142\n",
       "3       131473          2    134     14  0.104478        -13.875592\n",
       "4        32420          2    128     26  0.203125         -0.627431\n",
       "5        24239          2     90     40  0.444444         21.277588\n",
       "7        27443          1     29      2  0.068966         -4.032777\n",
       "...        ...        ...    ...    ...       ...               ...\n",
       "40070    21697          1     22      2  0.090909         -2.576590\n",
       "40071     1232          2     96      5  0.052083        -14.970573\n",
       "40072   120653          1     74     15  0.202703         -0.393984\n",
       "40076   132567          1    296     45  0.152027        -16.575934\n",
       "40078    17310          2     82      9  0.109756         -8.058198\n",
       "\n",
       "[20031 rows x 6 columns]"
      ]
     },
     "execution_count": 54,
     "metadata": {},
     "output_type": "execute_result"
    }
   ],
   "source": [
    "df_12"
   ]
  },
  {
   "cell_type": "code",
   "execution_count": 59,
   "id": "405ce434-795a-4fca-a41c-fa00f82ac46a",
   "metadata": {},
   "outputs": [
    {
     "data": {
      "text/plain": [
       "<AxesSubplot:xlabel='CTR', ylabel='Count'>"
      ]
     },
     "execution_count": 59,
     "metadata": {},
     "output_type": "execute_result"
    },
    {
     "data": {
      "image/png": "[encoded data removed]",
      "text/plain": [
       "<Figure size 864x576 with 1 Axes>"
      ]
     },
     "metadata": {},
     "output_type": "display_data"
    }
   ],
   "source": [
    "sns.histplot(data = df_12, \n",
    "             x='CTR', \n",
    "             hue='exp_group', \n",
    "             palette = ['r', 'b'],\n",
    "             alpha=0.5,\n",
    "             kde=False,\n",
    "             element=\"poly\",\n",
    "             bins=50)"
   ]
  },
  {
   "cell_type": "code",
   "execution_count": 60,
   "id": "2621fee0-478c-4998-886f-60ca0d6424b1",
   "metadata": {},
   "outputs": [
    {
     "data": {
      "text/plain": [
       "0.4780623130874935"
      ]
     },
     "execution_count": 60,
     "metadata": {},
     "output_type": "execute_result"
    }
   ],
   "source": [
    "stats.ttest_ind(df_12[df_12.exp_group == 1].CTR,\n",
    "                df_12[df_12.exp_group == 2].CTR,\n",
    "                equal_var=False).pvalue"
   ]
  },
  {
   "cell_type": "code",
   "execution_count": 55,
   "id": "21801b6b-dae5-4157-92ae-a1691d1ad470",
   "metadata": {},
   "outputs": [
    {
     "data": {
      "text/plain": [
       "<AxesSubplot:xlabel='linearized_likes', ylabel='Count'>"
      ]
     },
     "execution_count": 55,
     "metadata": {},
     "output_type": "execute_result"
    },
    {
     "data": {
      "image/png": "[encoded data removed]",
      "text/plain": [
       "<Figure size 864x576 with 1 Axes>"
      ]
     },
     "metadata": {},
     "output_type": "display_data"
    }
   ],
   "source": [
    "sns.histplot(data = df_12, \n",
    "             x='linearized_likes', \n",
    "             hue='exp_group', \n",
    "             palette = ['r', 'b'],\n",
    "             alpha=0.5,\n",
    "             kde=False,\n",
    "             element=\"poly\",\n",
    "             bins=50)"
   ]
  },
  {
   "cell_type": "code",
   "execution_count": 56,
   "id": "6e77b5ab-ca43-4764-b206-283cd9fd61a9",
   "metadata": {},
   "outputs": [
    {
     "data": {
      "text/plain": [
       "9.439432187037644e-10"
      ]
     },
     "execution_count": 56,
     "metadata": {},
     "output_type": "execute_result"
    }
   ],
   "source": [
    "stats.ttest_ind(df_12[df_12.exp_group == 1].linearized_likes,\n",
    "                df_12[df_12.exp_group == 2].linearized_likes,\n",
    "                equal_var=False).pvalue"
   ]
  },
  {
   "cell_type": "markdown",
   "id": "03466a9d-4565-4ab0-b3ae-05727990dc9c",
   "metadata": {},
   "source": [
    "**Вывод:**\n",
    "\n",
    "До этого мы уже заметили, что хоть t-test не выявил отличие между средними двух групп, на деле же распределения CTR-ов сильно отличаются. Одкако при иследовании linearized_likes t-test выдаёт низкое p-value, что в этот раз позволяет отклонить гипотезу о равенстве средних. На графике видно, что распределения linearized_likes сильно похожи на CTR-ы, но значения как будто более \"прижаты\" к средним распределений"
   ]
  }
 ],
 "metadata": {
  "kernelspec": {
   "display_name": "Python 3 (ipykernel)",
   "language": "python",
   "name": "python3"
  },
  "language_info": {
   "codemirror_mode": {
    "name": "ipython",
    "version": 3
   },
   "file_extension": ".py",
   "mimetype": "text/x-python",
   "name": "python",
   "nbconvert_exporter": "python",
   "pygments_lexer": "ipython3",
   "version": "3.8.10"
  }
 },
 "nbformat": 4,
 "nbformat_minor": 5
}
